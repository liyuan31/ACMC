{
 "cells": [
  {
   "cell_type": "markdown",
   "id": "932110cb-3d99-48ba-a72c-9475194f0366",
   "metadata": {},
   "source": [
    "# AC Mouse Contingency Brief Report\n",
    "\n",
    "This report is supplement to the abstract submitted to the 2022 Annual Meeting of the *Vision Sciences Society*.\n",
    "\n",
    "Data available at: https://github.com/liyuan31/ACMC/tree/main/data\n",
    "\n",
    "Code available at: https://github.com/liyuan31/acvs-online\n"
   ]
  },
  {
   "cell_type": "markdown",
   "id": "9056ef3d-e384-4131-9f23-48d51f8a0bcc",
   "metadata": {},
   "source": [
    "## Roles of goal-directed performance optimization vs. stimulus-driven salience in determining attentional control strategy\n",
    "\n",
    "**Walden Y. Li and Andrew B. Leber**\n",
    "\n",
    "*The Ohio State University*\n",
    "\n",
    "### Abstract\n",
    "\n",
    "Attentional control strategy accounts for significant variation in individual visual search performance. Research has shown that an individual’s strategy optimality is stable within visual search and foraging tasks (Clarke et al., 2020) and generalizes across similar visual search tasks (Li et al., 2021). However, in some paradigms designed to investigate strategy, stimulus salience—rather than individuals’ drive to optimize performance—might explain behavior.  Here, we pitted stimulus salience vs. strategy optimization via a modification of the Adaptive Choice Visual Search (ACVS; Irons & Leber, 2018) paradigm.  In Experiment 1, Control Group participants could choose to search for either a red or blue target containing a “5”—each of which was present on every trial. Participants moved the mouse to search, revealing digits by hovering over each object, one at a time. One color subset was always less numerous than the other; as a result, it was more optimal to search for the target in the smaller subset (although note that the smaller subset items were also more salient).  In the Manipulated Group, we presented targets sooner in the large subset than in the small subset, such that searching the large (and less salient) subset was now the optimal strategy.  Experiment 2 contained a similar task with subsets defined by their spatial location instead of colors.  In both experiments, participants’ tendency of choosing the small subset was significantly reduced in the Manipulated Group, in which the target appeared sooner in larger subsets. These results demonstrate that strategy optimization overrides stimulus salience in visual search, and strategy is dependent more on internal, rather than external, factors."
   ]
  },
  {
   "cell_type": "markdown",
   "id": "a2b59c1a-0ab6-495a-90bd-a1c8938c2557",
   "metadata": {},
   "source": [
    "### Introduction\n",
    "\n",
    "Attentional control strategy has been a topic of major research focus in our lab over the past few years. It is found that individuals \n",
    "\n",
    "### General Methods\n",
    "\n",
    "We recruited participants through OSU's REP. Experiments were coded by JavaScript and PHP. Participants completed the experiments at their own places using their own devices.\n",
    "\n",
    "Expt 1 included two groups (ACMC 2 and ACMC 3) that were both participants from pilot studies. Expt 2 included two groups that were randomly assigned (ACMC 6).\n",
    "\n",
    "<img src=\"https://exp.leberatory.org/files/instr/acmc1/Slide8.jpeg\" style=\"width:600px;display:block;margin:auto\">\n",
    "\n",
    "<p style='text-align:center'>The original ACMC design.</p>\n",
    "\n",
    "### Expt 1\n",
    "\n",
    "The display includes red, blue, and green squares with digits between 1 and 9. Two targets, one red and one blue, have the digit 5 on them, while other red and blue squares have digits randomly drawn from a uniform distribution from 1 to 9, excluding 5. Green squares are irrelevant distractors that can have digit 5.\n",
    "\n",
    "Before the start of each trial, square digits are hidden from the display. Participants need to click on the central fixation cross to trigger the start of the trial. Then, they can hover on any square to reveal to digit on that square. Note that if the hover is less than 200 ms, the digit will not show, which is to prevent sweeping through the display without actually searching.\n",
    "\n",
    "In the **control version**, there is no manipulation on when target will show in each color subset. This makes the small subset the optimal one, since searching in it will on average make one find the target faster.\n",
    "\n",
    "In the **manipulated version**, the target in the large subset will appear sooner than the small subset. This makes the large subset optimal."
   ]
  },
  {
   "cell_type": "code",
   "execution_count": 1,
   "id": "5f1d75d8-b7e7-4337-9ee8-0f2237dbc73c",
   "metadata": {},
   "outputs": [
    {
     "name": "stdout",
     "output_type": "stream",
     "text": [
      "(26, 4) (22, 4)\n"
     ]
    }
   ],
   "source": [
    "import os\n",
    "import json\n",
    "import pandas as pd\n",
    "import numpy as np\n",
    "import matplotlib.pyplot as plt\n",
    "from urllib.request import urlopen\n",
    "\n",
    "\n",
    "def read_data_1(dir):\n",
    "    # retrieve subject list\n",
    "    sub_list = json.loads(urlopen(dir + 'sub_list.json').read())\n",
    "    out = []\n",
    "    # read data for each subject and obtain stats\n",
    "    for s in sub_list:\n",
    "        data = pd.read_csv(dir + s)\n",
    "        sub = data['id'][0]\n",
    "        # trim rt by 3 std from raw mean rt\n",
    "        trimmed = data[data['rt'] > data['rt'].mean() - 3*data['rt'].std()]\n",
    "        trimmed = trimmed[trimmed['rt'] < data['rt'].mean() + 3*data['rt'].std()]\n",
    "        rt = trimmed['rt'].mean()\n",
    "        opt = trimmed['is_opt'].mean()\n",
    "        feature = (trimmed['color']=='red').mean()\n",
    "        out.append([sub, rt, opt, feature])\n",
    "    return pd.DataFrame(out, columns=['id','rt','opt','feature'])\n",
    "\n",
    "\n",
    "df1a = read_data_1('https://raw.githubusercontent.com/liyuan31/ACMC/main/data/expt_1/manip/')\n",
    "df1b = read_data_1('https://raw.githubusercontent.com/liyuan31/ACMC/main/data/expt_1/ctrl/')\n",
    "print(df1a.shape, df1b.shape)"
   ]
  },
  {
   "cell_type": "markdown",
   "id": "4d986ae1-c733-4b5b-acf6-93d9d0d9b67e",
   "metadata": {},
   "source": [
    "The two groups were collected separately because they were originally meant to be pilot data. As the result, no particular sample size and stopping rule was pre-determined. Due to the time constrait, we still try to compare results from the two groups, but caution is needed when interpreting the result.\n",
    "\n",
    "Under H0 (small subset is always preferred because of salience), there should be no differece in proportion chosen in the small subset. If, alternatively, a drive for strategy optimization oveerides stimulus salience, we should see more preferrence for larger subsets in the manipulated version.\n",
    "\n",
    "\n",
    "Results suggest a significant effect of target manipulation.\n",
    "\n",
    "Below is the bar graph plotted. Error bars incdicate standard error of means."
   ]
  },
  {
   "cell_type": "code",
   "execution_count": 2,
   "id": "82c6e24a-759c-4d3f-ab1a-13b0693fe210",
   "metadata": {},
   "outputs": [
    {
     "data": {
      "image/png": "[encoded data removed]",
      "text/plain": [
       "<Figure size 432x288 with 1 Axes>"
      ]
     },
     "metadata": {
      "needs_background": "light"
     },
     "output_type": "display_data"
    }
   ],
   "source": [
    "stand_manip = 1 - df1a['opt']\n",
    "stand_ctrl = df1b['opt']\n",
    "labels = ['Manip.', 'Ctrl.']\n",
    "x_pos = np.arange(len(labels))\n",
    "opts = [stand_manip.mean(), stand_ctrl.mean()]\n",
    "error = [stand_manip.std()/np.sqrt(len(stand_manip)), stand_ctrl.std()/np.sqrt(len(stand_ctrl))]\n",
    "fig, ax = plt.subplots()\n",
    "ax.bar(x_pos, opts, yerr=error, align='center', alpha=0.5, ecolor='black', capsize=10)\n",
    "ax.set_ylabel('Proportion Small Subset Target Chosen')\n",
    "ax.set_xticks(x_pos)\n",
    "ax.set_xticklabels(labels)\n",
    "ax.set_title('Standard ACMC')\n",
    "ax.yaxis.grid(False)\n",
    "plt.tight_layout()\n",
    "plt.show()"
   ]
  },
  {
   "cell_type": "markdown",
   "id": "1350a635-f6a4-4313-bf97-eaa4d8964c95",
   "metadata": {},
   "source": [
    "We did see that if we manipulated the \"optimality\" of the subsets such that targets were sooner found in the large subset, there was a significant decrease in participants' preferrence for the small subset, which was the optimal subset in the stardard version. However, there are several issues with the present manipulation:\n",
    "\n",
    "1) The optimality was only at chance level for the control task. This would be a problem if we want to claim that participants had an overall tendency to choose the small subset.\n",
    "2) The two groups were not randomly assigned because they were run one after the other in our pilot study sequence."
   ]
  },
  {
   "cell_type": "markdown",
   "id": "a6ed000f-5539-4051-a211-7afee37698f2",
   "metadata": {},
   "source": [
    "### Expt 2\n",
    "In this version of the spatial ACMC, targets appeared on both sides on the display. On the optimal side, there were 20 total squares and on the non-optimal side, there were 13 squares. That is to say, in this version the numerosity ratio was $$ 20 / 13 = 1.54 $$\n",
    "\n",
    "<img src=\"https://exp.leberatory.org/files/instr/acmc5/Slide8.jpeg\" style=\"width:600px;display:block;margin:auto\">\n"
   ]
  },
  {
   "cell_type": "code",
   "execution_count": 3,
   "id": "5247d67b-ee51-4baa-8f86-69882fa7cb78",
   "metadata": {},
   "outputs": [
    {
     "name": "stdout",
     "output_type": "stream",
     "text": [
      "(24, 5) (22, 5)\n"
     ]
    }
   ],
   "source": [
    "def read_data_2(dir):\n",
    "    # retrieve subject list\n",
    "    sub_list = json.loads(urlopen(dir + 'sub_list.json').read())\n",
    "    out = []\n",
    "    # read data for each subject and obtain stats\n",
    "    for s in sub_list:\n",
    "        data = pd.read_csv(dir + s)\n",
    "        sub = data['id'][0]\n",
    "        version = data['version'][0]\n",
    "        # trim rt by 3 std from raw mean rt\n",
    "        trimmed = data[data['rt'] > data['rt'].mean() - 3*data['rt'].std()]\n",
    "        trimmed = trimmed[trimmed['rt'] < data['rt'].mean() + 3*data['rt'].std()]\n",
    "        rt = trimmed['rt'].mean()\n",
    "        opt = trimmed['is_opt'].mean()\n",
    "        feature = (trimmed['side']=='left').mean()\n",
    "        out.append([sub, version, rt, opt, feature])\n",
    "    return pd.DataFrame(out, columns=['id','version','rt','opt','feature'])\n",
    "\n",
    "df2 = read_data_2('https://raw.githubusercontent.com/liyuan31/ACMC/main/data/expt_2/')\n",
    "df2a = df2[df2['version']==0]\n",
    "df2b = df2[df2['version']==1]\n",
    "del df2\n",
    "print(df2a.shape, df2b.shape)"
   ]
  },
  {
   "cell_type": "code",
   "execution_count": 4,
   "id": "4d9e5c50-0fad-482b-8906-1f14f10a701d",
   "metadata": {},
   "outputs": [
    {
     "data": {
      "image/png": "[encoded data removed]",
      "text/plain": [
       "<Figure size 432x288 with 1 Axes>"
      ]
     },
     "metadata": {
      "needs_background": "light"
     },
     "output_type": "display_data"
    }
   ],
   "source": [
    "sp_manip = 1 - df2a['opt']\n",
    "sp_ctrl = df2b['opt']\n",
    "labels = ['Manip.', 'Ctrl.']\n",
    "x_pos = np.arange(len(labels))\n",
    "opts = [sp_manip.mean(), sp_ctrl.mean()]\n",
    "error = [sp_manip.std()/np.sqrt(len(sp_manip)), sp_ctrl.std()/np.sqrt(len(sp_ctrl))]\n",
    "fig, ax = plt.subplots()\n",
    "ax.bar(x_pos, opts, yerr=error, align='center', alpha=0.5, ecolor='black', capsize=10)\n",
    "ax.set_ylabel('Proportion Small Subset Target Chosen')\n",
    "ax.set_xticks(x_pos)\n",
    "ax.set_xticklabels(labels)\n",
    "ax.set_title('Spatial ACMC')\n",
    "ax.yaxis.grid(False)\n",
    "plt.tight_layout()\n",
    "plt.show()"
   ]
  },
  {
   "cell_type": "markdown",
   "id": "8b6363cf-459a-4bb1-9e9a-498a5745efa9",
   "metadata": {},
   "source": [
    "The result shows that as we decrease the optimality of the small subset, participants chose targets from the small subset less often. In this version, the groups were randomly assigned and the baseline optimality was similar to what we would normally observe in the ACVS variations used in our lab."
   ]
  }
 ],
 "metadata": {
  "kernelspec": {
   "display_name": "Python 3",
   "language": "python",
   "name": "python3"
  },
  "language_info": {
   "codemirror_mode": {
    "name": "ipython",
    "version": 3
   },
   "file_extension": ".py",
   "mimetype": "text/x-python",
   "name": "python",
   "nbconvert_exporter": "python",
   "pygments_lexer": "ipython3",
   "version": "3.8.8"
  }
 },
 "nbformat": 4,
 "nbformat_minor": 5
}
